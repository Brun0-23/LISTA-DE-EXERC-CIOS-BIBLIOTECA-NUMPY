{
 "cells": [
  {
   "cell_type": "markdown",
   "id": "9cc32f8c-5760-48b4-87c8-db23d1369363",
   "metadata": {},
   "source": [
    "## LISTA DE EXERCÍCIOS\n",
    "## BIBLIOTECA NUMPY\n"
   ]
  },
  {
   "cell_type": "code",
   "execution_count": 8,
   "id": "482b83fb-06c7-47ee-bdb6-27d637264fff",
   "metadata": {},
   "outputs": [
    {
     "name": "stdout",
     "output_type": "stream",
     "text": [
      "[ 3.  5.  9. 16. 25.]\n"
     ]
    }
   ],
   "source": [
    "#1-Converta os elementos do array [3, 5, 9, 16, 25] para float.\n",
    "import numpy as np\n",
    "\n",
    "array_float = np.array([3, 5, 9, 16, 25], dtype = np.float64)\n",
    "print(array_float)"
   ]
  },
  {
   "cell_type": "code",
   "execution_count": 20,
   "id": "e36e3503-6609-4e2a-8cf9-d4d5072cffce",
   "metadata": {},
   "outputs": [
    {
     "name": "stdout",
     "output_type": "stream",
     "text": [
      "[ 1 -3  8 16]\n"
     ]
    }
   ],
   "source": [
    "#2-Dado o array [1.2, -3.6, 8.99999, 16.1], converta os seus elementos para int.\n",
    "array_int = np.array([1.2, -3.6, 8.99999, 16.1], dtype = np.int32)\n",
    "print(array_int)"
   ]
  },
  {
   "cell_type": "code",
   "execution_count": 37,
   "id": "8b2a8daf-7377-45fe-87ec-59681b14c5e1",
   "metadata": {},
   "outputs": [
    {
     "name": "stdout",
     "output_type": "stream",
     "text": [
      "[[0 0 0 0 0 0 0 0 0]\n",
      " [0 0 0 0 0 0 0 0 0]\n",
      " [0 0 0 0 0 0 0 0 0]]\n"
     ]
    }
   ],
   "source": [
    "#3-Crie uma matriz 3x9 contendo apenas elementos com valor zero.\n",
    "matriz_int = np.zeros([3, 9], dtype = np.int32)\n",
    "print(matriz_zero_int)"
   ]
  },
  {
   "cell_type": "code",
   "execution_count": 45,
   "id": "b4366ec6-bbb6-4bda-80c5-bb445b2a46d9",
   "metadata": {},
   "outputs": [
    {
     "name": "stdout",
     "output_type": "stream",
     "text": [
      "[[1 1 1 1 1 1 1]\n",
      " [1 1 1 1 1 1 1]\n",
      " [1 1 1 1 1 1 1]\n",
      " [1 1 1 1 1 1 1]\n",
      " [1 1 1 1 1 1 1]\n",
      " [1 1 1 1 1 1 1]]\n"
     ]
    }
   ],
   "source": [
    "#4-Crie uma matriz 6x7 de números inteiros contendo elementos com valor 1.\n",
    "matriz_one_int = np.ones([6, 7], dtype = np.int32)\n",
    "print(matriz_one_int)"
   ]
  },
  {
   "cell_type": "code",
   "execution_count": 49,
   "id": "00fdf9c4-8971-4a3b-aa43-6c9c91483894",
   "metadata": {},
   "outputs": [
    {
     "name": "stdout",
     "output_type": "stream",
     "text": [
      "[[1. 0. 0. 0.]\n",
      " [0. 1. 0. 0.]\n",
      " [0. 0. 1. 0.]\n",
      " [0. 0. 0. 1.]]\n"
     ]
    }
   ],
   "source": [
    "#5-Crie uma matriz identidade de tamanho 4.\n",
    "matriz_5 = np.eye(4)\n",
    "print(matriz_5)"
   ]
  },
  {
   "cell_type": "code",
   "execution_count": 53,
   "id": "6f94c7fd-238e-4e2c-b5d8-14de3cc2bc69",
   "metadata": {},
   "outputs": [
    {
     "name": "stdout",
     "output_type": "stream",
     "text": [
      "[0.06405985 0.66174994 0.72629407 0.06481335 0.82017688]\n"
     ]
    }
   ],
   "source": [
    "#6-Crie um array de números aleatórios entre 0 e 1 de tamanho 5.\n",
    "array_6 = np.random.random(5)\n",
    "print(array_6)"
   ]
  },
  {
   "cell_type": "code",
   "execution_count": 73,
   "id": "61281687-f204-484d-a393-db1b376cca68",
   "metadata": {},
   "outputs": [
    {
     "name": "stdout",
     "output_type": "stream",
     "text": [
      "[[2 0 2 0 3 1]\n",
      " [3 1 1 4 5 4]\n",
      " [5 5 2 1 4 1]]\n"
     ]
    }
   ],
   "source": [
    "#7-Crie uma matriz 3x6 contendo números aleatórios de 0 a 5 (0, 1, 2, 3, 4, 5).\n",
    "matriz_7 = np.random.randint(6, size = (3,6)) \n",
    "print(matriz_7)"
   ]
  },
  {
   "cell_type": "markdown",
   "id": "4e1b2191-a7af-41f9-b81e-18ed0ab3cbc6",
   "metadata": {},
   "source": [
    "# Considere a seguinte matriz para os exercícios 8 a 11:\n",
    "### [[4 6 8]\n",
    "### [-4 3 2]\n",
    "### [22 -15 12]]\n"
   ]
  },
  {
   "cell_type": "code",
   "execution_count": 34,
   "id": "f34bbd3b-2847-4a3b-8824-5e9c8a40ead6",
   "metadata": {},
   "outputs": [
    {
     "name": "stdout",
     "output_type": "stream",
     "text": [
      "22\n"
     ]
    }
   ],
   "source": [
    "#8-Informe o código para exibir o valor máximo da matriz.\n",
    "import numpy as np2\n",
    "matriz8 = np2.array([[4, 6, 8],\n",
    "                    [-4, 3, 2],\n",
    "                    [22, -15, 12]])\n",
    "print(matriz8.max())"
   ]
  },
  {
   "cell_type": "code",
   "execution_count": 37,
   "id": "caeff753-f564-4555-ba5f-060ef2b7fd83",
   "metadata": {},
   "outputs": [
    {
     "name": "stdout",
     "output_type": "stream",
     "text": [
      "-15\n"
     ]
    }
   ],
   "source": [
    "#9-Qual o código para exibir o valor mínimo da matriz?\n",
    "#O código seria \"print(matriz8.min())\"\n",
    "print(matriz8.min())"
   ]
  },
  {
   "cell_type": "code",
   "execution_count": 141,
   "id": "17e4f8d7-804c-4b35-a4c7-f421f732b534",
   "metadata": {},
   "outputs": [
    {
     "name": "stdout",
     "output_type": "stream",
     "text": [
      "38\n"
     ]
    }
   ],
   "source": [
    "#10-Como fazer para imprimir na tela a soma dos elementos da matriz?\n",
    "#Para imprimir é só colocar \"print(matriz8.sum())\"\n",
    "print(matriz8.sum())"
   ]
  },
  {
   "cell_type": "code",
   "execution_count": 43,
   "id": "7ff93921-c541-4a08-b600-5afec33736f2",
   "metadata": {},
   "outputs": [
    {
     "name": "stdout",
     "output_type": "stream",
     "text": [
      "4.222222222222222\n"
     ]
    }
   ],
   "source": [
    "#11-Escreva o código necessário para exibir a média dos elementos da matriz.\n",
    "#O código exibir a média dos elementos da matriz é \"print(matriz8.mean())\"\n",
    "print(matriz8.mean())"
   ]
  },
  {
   "cell_type": "markdown",
   "id": "705a934c-49c7-4865-b486-59bb453bfe91",
   "metadata": {},
   "source": [
    "## Considere o seguinte array para os exercícios 12 a 16.\n",
    "\t[13 -2 6 8 23 15 3 90 4 10 56 12]\n"
   ]
  },
  {
   "cell_type": "code",
   "execution_count": 61,
   "id": "d6e3722d-2803-4fd9-86fc-e1fbd7c1a12e",
   "metadata": {},
   "outputs": [
    {
     "name": "stdout",
     "output_type": "stream",
     "text": [
      "8\n"
     ]
    }
   ],
   "source": [
    "#12-Exibir o 4º elemento do array.\n",
    "import numpy as np3\n",
    "array12 = np3.array([13, -2, 6, 8, 23, 15, 3, 90, 4, 10, 56, 12])\n",
    "print(array12[3])"
   ]
  },
  {
   "cell_type": "code",
   "execution_count": 64,
   "id": "8f5624ae-a3fe-430c-802f-305683560935",
   "metadata": {},
   "outputs": [
    {
     "name": "stdout",
     "output_type": "stream",
     "text": [
      "[10 56 12]\n"
     ]
    }
   ],
   "source": [
    "#13-Exibir os 3 últimos elementos do array.\n",
    "print(array12[-3:])"
   ]
  },
  {
   "cell_type": "code",
   "execution_count": 68,
   "id": "d1f899ca-8718-4928-ba89-23f7f07b9db5",
   "metadata": {},
   "outputs": [
    {
     "name": "stdout",
     "output_type": "stream",
     "text": [
      "[ 6  8 23 15  3 90  4 10 56 12]\n"
     ]
    }
   ],
   "source": [
    "#14-Exibir os elementos a partir da posição 2.\n",
    "print(array12[2:])"
   ]
  },
  {
   "cell_type": "code",
   "execution_count": 76,
   "id": "d06e6b7b-0e11-410d-b561-617f69d9ad80",
   "metadata": {},
   "outputs": [
    {
     "name": "stdout",
     "output_type": "stream",
     "text": [
      "[-2  6  8 23 15]\n"
     ]
    }
   ],
   "source": [
    "#15-Exibir um array entre o 2º e o 6º elementos. O 6º elemento deve estar presente.\n",
    "print(array12[1:6])"
   ]
  },
  {
   "cell_type": "code",
   "execution_count": 78,
   "id": "c276df11-d7e9-4936-9992-7f83343ed482",
   "metadata": {},
   "outputs": [
    {
     "name": "stdout",
     "output_type": "stream",
     "text": [
      "[23 15  3 90]\n"
     ]
    }
   ],
   "source": [
    "#16-Escreva o código que resulta na exibição do seguinte array: [23 15 3 90] \n",
    "print(array12[4:8])"
   ]
  },
  {
   "cell_type": "markdown",
   "id": "099bfe6c-a852-47f3-94f1-a1a3b9da0ece",
   "metadata": {},
   "source": [
    "# Considere a seguinte matriz para os exercícios de 17 a 20\n",
    "\t[[1\t3\t16\t -25\t14]\n",
    "\t [2\t0\t10\t5\t17]\n",
    "\t [19\t4\t8\t15\t13]\n",
    "\t [7\t12\t-5\t14\t0]]\n",
    "\n",
    "\n"
   ]
  },
  {
   "cell_type": "code",
   "execution_count": 99,
   "id": "71d6ac70-e58f-43d3-bc0e-ccd9bf61330b",
   "metadata": {},
   "outputs": [
    {
     "name": "stdout",
     "output_type": "stream",
     "text": [
      "[19  4  8 15 13]\n"
     ]
    }
   ],
   "source": [
    "#17-Escreva o código para exibir a 3ª linha da matriz.\n",
    "import numpy as np4\n",
    "matriz9 = np4.array([[1 ,   3 ,  16,\t-25,    14],\n",
    "                     [2 ,\t0 ,\t 10,\t  5,\t17],\n",
    "                     [19,\t4 ,\t  8,\t 15,\t13],\n",
    "                     [7 ,\t12,\t -5,\t 14,\t0,]])\n",
    "print(matriz9[2])"
   ]
  },
  {
   "cell_type": "code",
   "execution_count": 101,
   "id": "7882dbf9-7c46-4021-9d73-d0f986c9918e",
   "metadata": {},
   "outputs": [
    {
     "name": "stdout",
     "output_type": "stream",
     "text": [
      "[-25   5  15  14]\n"
     ]
    }
   ],
   "source": [
    "#18-Escreva o código para exibir a 4ª coluna\n",
    "print(matriz9[:, 3])"
   ]
  },
  {
   "cell_type": "code",
   "execution_count": 105,
   "id": "d1ba72cb-4de3-4de2-8c5e-aab971796fcc",
   "metadata": {},
   "outputs": [
    {
     "name": "stdout",
     "output_type": "stream",
     "text": [
      "10\n"
     ]
    }
   ],
   "source": [
    "#19-Escreva o código para exibir o elemento de valor 10.\n",
    "print(matriz9[1, 2])"
   ]
  },
  {
   "cell_type": "code",
   "execution_count": 119,
   "id": "65f765aa-2182-4de7-8f8d-f856c21fb369",
   "metadata": {},
   "outputs": [
    {
     "name": "stdout",
     "output_type": "stream",
     "text": [
      "[[ 0 10  5]\n",
      " [ 4  8 15]]\n"
     ]
    }
   ],
   "source": [
    "'''\n",
    "20-Escreva o código que resulta na seguinte matriz:\n",
    "[[0\t10\t5]\n",
    "[4\t8\t15]]\n",
    "'''\n",
    "print(matriz9[1:3, 1:4])"
   ]
  },
  {
   "cell_type": "markdown",
   "id": "08326746-1990-4021-ac55-b47a2d87860f",
   "metadata": {},
   "source": [
    "## 21 - Dada a seguinte matriz:\n",
    "\t[[2\t-1\t15\t24]\n",
    "\t[-3\t18\t4\t25]\n",
    "\t[9\t10\t-13\t7]]\n",
    "\n",
    "## Crie uma nova matriz, atribuindo o valor 1 para os números ímpares, e 2, para os números pares, utilizando a biblioteca numpy.\n"
   ]
  },
  {
   "cell_type": "code",
   "execution_count": 136,
   "id": "189c73bd-b2e4-4b9f-b938-51f6b0492c34",
   "metadata": {},
   "outputs": [
    {
     "name": "stdout",
     "output_type": "stream",
     "text": [
      "[[2 1 1 2]\n",
      " [1 2 2 1]\n",
      " [1 2 1 1]]\n"
     ]
    }
   ],
   "source": [
    "## Crie uma nova matriz, atribuindo o valor 1 para os números ímpares, e 2, para os números pares, utilizando a biblioteca numpy.\n",
    "import numpy as np4\n",
    "matriz21 = np4.array([[ 2,\t-1,\t 15,\t24],\n",
    "                      [-3,\t18,\t  4,\t25],\n",
    "                      [ 9,\t10,\t-13,\t7]])\n",
    "matriz_impar_par = np4.where(matriz21 % 2 == 0, 2, 1)\n",
    "print(matriz_impar_par)"
   ]
  }
 ],
 "metadata": {
  "kernelspec": {
   "display_name": "Python [conda env:base] *",
   "language": "python",
   "name": "conda-base-py"
  },
  "language_info": {
   "codemirror_mode": {
    "name": "ipython",
    "version": 3
   },
   "file_extension": ".py",
   "mimetype": "text/x-python",
   "name": "python",
   "nbconvert_exporter": "python",
   "pygments_lexer": "ipython3",
   "version": "3.12.7"
  }
 },
 "nbformat": 4,
 "nbformat_minor": 5
}
